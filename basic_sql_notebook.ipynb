{
 "cells": [
  {
   "cell_type": "markdown",
   "id": "a236c049",
   "metadata": {},
   "source": [
    "# 🧪 Basic SQL Notebook\n",
    "\n",
    "Welcome to this interactive notebook for learning SQL!"
   ]
  },
  {
   "cell_type": "code",
   "execution_count": 1,
   "id": "da10d26a",
   "metadata": {},
   "outputs": [],
   "source": [
    "# Load the ipython-sql extension\n",
    "%load_ext sql\n",
    "\n",
    "# Connect to an in-memory SQLite database\n",
    "%sql sqlite://\n"
   ]
  },
  {
   "cell_type": "code",
   "execution_count": 1,
   "id": "c0302a62",
   "metadata": {},
   "outputs": [],
   "source": [
    "%%sql\n",
    "-- Create a students table\n",
    "CREATE TABLE students (\n",
    "    id INTEGER PRIMARY KEY,\n",
    "    name TEXT,\n",
    "    age INTEGER\n",
    ");\n"
   ]
  },
  {
   "cell_type": "code",
   "execution_count": 1,
   "id": "b0ab4b25",
   "metadata": {},
   "outputs": [],
   "source": [
    "%%sql\n",
    "-- Insert some test data\n",
    "INSERT INTO students (id, name, age) VALUES\n",
    "(1, 'Ana', 22),\n",
    "(2, 'Ben', 24),\n",
    "(3, 'Carlos', 21);\n"
   ]
  },
  {
   "cell_type": "code",
   "execution_count": 1,
   "id": "0f3454be",
   "metadata": {},
   "outputs": [],
   "source": [
    "%%sql\n",
    "-- Show all students\n",
    "SELECT * FROM students;\n"
   ]
  },
  {
   "cell_type": "markdown",
   "id": "6421641e",
   "metadata": {},
   "source": [
    "### ✅ Challenge\n",
    "Modify the query below to return only students over the age of 21."
   ]
  },
  {
   "cell_type": "code",
   "execution_count": 1,
   "id": "1ff6989c",
   "metadata": {},
   "outputs": [],
   "source": [
    "%%sql\n",
    "-- Your code here\n",
    "SELECT * FROM students WHERE age > 21;\n"
   ]
  }
 ],
 "metadata": {},
 "nbformat": 4,
 "nbformat_minor": 5
}
